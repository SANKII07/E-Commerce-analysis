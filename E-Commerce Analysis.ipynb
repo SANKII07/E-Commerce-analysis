{
 "cells": [
  {
   "cell_type": "markdown",
   "id": "28e20a4d",
   "metadata": {},
   "source": [
    "## E-Commerce Analysis\n",
    "E-commerce stores which became success stories were successful in targeting the desired customers. One of the techniques by which they were able to achieve this was customer segmentation i.e. by segmenting the existing customers based on frequency of purchases, monetary value etc. E-commerce stores who designed market strategies based on mass marketing soon realized the need of customer segmentation as an alternative to save cost and efforts in the digital sphere.\n",
    "\n",
    "We have the Customer data of two years and we can perform the segmentation on the basis of Recency,Frequency and Monetary Approach to make the business decisions"
   ]
  },
  {
   "cell_type": "markdown",
   "id": "06e92b45",
   "metadata": {},
   "source": [
    "************************************************************************************************************************"
   ]
  },
  {
   "cell_type": "code",
   "execution_count": 52,
   "id": "5f74fe8a",
   "metadata": {},
   "outputs": [],
   "source": [
    "# Importing the Necessary Libraries"
   ]
  },
  {
   "cell_type": "code",
   "execution_count": 53,
   "id": "2cc3dc27",
   "metadata": {},
   "outputs": [],
   "source": [
    "import os\n",
    "import pandas as pd\n",
    "import numpy as np\n",
    "import seaborn as sns\n",
    "sns.set()\n",
    "import matplotlib.pyplot as plt\n",
    "%matplotlib inline\n",
    "import warnings\n",
    "warnings.filterwarnings('ignore')"
   ]
  },
  {
   "cell_type": "code",
   "execution_count": 54,
   "id": "e4b3f3ba",
   "metadata": {},
   "outputs": [],
   "source": [
    "# Reading the dataset"
   ]
  },
  {
   "cell_type": "code",
   "execution_count": 55,
   "id": "51790072",
   "metadata": {},
   "outputs": [
    {
     "data": {
      "text/html": [
       "<div>\n",
       "<style scoped>\n",
       "    .dataframe tbody tr th:only-of-type {\n",
       "        vertical-align: middle;\n",
       "    }\n",
       "\n",
       "    .dataframe tbody tr th {\n",
       "        vertical-align: top;\n",
       "    }\n",
       "\n",
       "    .dataframe thead th {\n",
       "        text-align: right;\n",
       "    }\n",
       "</style>\n",
       "<table border=\"1\" class=\"dataframe\">\n",
       "  <thead>\n",
       "    <tr style=\"text-align: right;\">\n",
       "      <th></th>\n",
       "      <th>CustomerID</th>\n",
       "      <th>Item Code</th>\n",
       "      <th>InvoieNo</th>\n",
       "      <th>Date of purchase</th>\n",
       "      <th>Quantity</th>\n",
       "      <th>Time</th>\n",
       "      <th>price per Unit</th>\n",
       "      <th>Price</th>\n",
       "      <th>Shipping Location</th>\n",
       "      <th>Cancelled_status</th>\n",
       "      <th>Reason of return</th>\n",
       "      <th>Sold as set</th>\n",
       "    </tr>\n",
       "  </thead>\n",
       "  <tbody>\n",
       "    <tr>\n",
       "      <th>0</th>\n",
       "      <td>4355.0</td>\n",
       "      <td>15734</td>\n",
       "      <td>398177.0</td>\n",
       "      <td>29-10-2017</td>\n",
       "      <td>6.0</td>\n",
       "      <td>3:36:00 PM</td>\n",
       "      <td>321.0</td>\n",
       "      <td>1926.0</td>\n",
       "      <td>Location 1</td>\n",
       "      <td>NaN</td>\n",
       "      <td>NaN</td>\n",
       "      <td>NaN</td>\n",
       "    </tr>\n",
       "    <tr>\n",
       "      <th>1</th>\n",
       "      <td>4352.0</td>\n",
       "      <td>14616</td>\n",
       "      <td>394422.0</td>\n",
       "      <td>05-10-2017</td>\n",
       "      <td>2.0</td>\n",
       "      <td>2:53:00 PM</td>\n",
       "      <td>870.0</td>\n",
       "      <td>1740.0</td>\n",
       "      <td>Location 1</td>\n",
       "      <td>NaN</td>\n",
       "      <td>NaN</td>\n",
       "      <td>NaN</td>\n",
       "    </tr>\n",
       "    <tr>\n",
       "      <th>2</th>\n",
       "      <td>4352.0</td>\n",
       "      <td>14614</td>\n",
       "      <td>394422.0</td>\n",
       "      <td>12-10-2017</td>\n",
       "      <td>2.0</td>\n",
       "      <td>2:53:00 PM</td>\n",
       "      <td>933.0</td>\n",
       "      <td>1866.0</td>\n",
       "      <td>Location 1</td>\n",
       "      <td>NaN</td>\n",
       "      <td>NaN</td>\n",
       "      <td>NaN</td>\n",
       "    </tr>\n",
       "    <tr>\n",
       "      <th>3</th>\n",
       "      <td>4352.0</td>\n",
       "      <td>85014B</td>\n",
       "      <td>388633.0</td>\n",
       "      <td>22-08-2017</td>\n",
       "      <td>3.0</td>\n",
       "      <td>2:47:00 PM</td>\n",
       "      <td>623.0</td>\n",
       "      <td>1869.0</td>\n",
       "      <td>Location 1</td>\n",
       "      <td>NaN</td>\n",
       "      <td>NaN</td>\n",
       "      <td>NaN</td>\n",
       "    </tr>\n",
       "    <tr>\n",
       "      <th>4</th>\n",
       "      <td>4352.0</td>\n",
       "      <td>15364</td>\n",
       "      <td>394422.0</td>\n",
       "      <td>10-10-2017</td>\n",
       "      <td>2.0</td>\n",
       "      <td>2:53:00 PM</td>\n",
       "      <td>944.0</td>\n",
       "      <td>1888.0</td>\n",
       "      <td>Location 1</td>\n",
       "      <td>NaN</td>\n",
       "      <td>NaN</td>\n",
       "      <td>NaN</td>\n",
       "    </tr>\n",
       "  </tbody>\n",
       "</table>\n",
       "</div>"
      ],
      "text/plain": [
       "   CustomerID Item Code  InvoieNo Date of purchase  Quantity        Time  \\\n",
       "0      4355.0     15734  398177.0       29-10-2017       6.0  3:36:00 PM   \n",
       "1      4352.0     14616  394422.0       05-10-2017       2.0  2:53:00 PM   \n",
       "2      4352.0     14614  394422.0       12-10-2017       2.0  2:53:00 PM   \n",
       "3      4352.0    85014B  388633.0       22-08-2017       3.0  2:47:00 PM   \n",
       "4      4352.0     15364  394422.0       10-10-2017       2.0  2:53:00 PM   \n",
       "\n",
       "   price per Unit   Price Shipping Location Cancelled_status Reason of return  \\\n",
       "0           321.0  1926.0        Location 1              NaN              NaN   \n",
       "1           870.0  1740.0        Location 1              NaN              NaN   \n",
       "2           933.0  1866.0        Location 1              NaN              NaN   \n",
       "3           623.0  1869.0        Location 1              NaN              NaN   \n",
       "4           944.0  1888.0        Location 1              NaN              NaN   \n",
       "\n",
       "   Sold as set  \n",
       "0          NaN  \n",
       "1          NaN  \n",
       "2          NaN  \n",
       "3          NaN  \n",
       "4          NaN  "
      ]
     },
     "execution_count": 55,
     "metadata": {},
     "output_type": "execute_result"
    }
   ],
   "source": [
    "dataset=pd.read_csv('E-com_Data.csv')\n",
    "dataset.head()"
   ]
  },
  {
   "cell_type": "code",
   "execution_count": 56,
   "id": "62783d88",
   "metadata": {},
   "outputs": [],
   "source": [
    "# Checking the missing values"
   ]
  },
  {
   "cell_type": "code",
   "execution_count": 57,
   "id": "57a9c7ff",
   "metadata": {},
   "outputs": [
    {
     "data": {
      "text/plain": [
       "CustomerID            25.304556\n",
       "Item Code              0.579728\n",
       "InvoieNo               0.579728\n",
       "Date of purchase       0.579728\n",
       "Quantity               0.579728\n",
       "Time                   0.579728\n",
       "price per Unit         0.579728\n",
       "Price                  0.579728\n",
       "Shipping Location      0.579728\n",
       "Cancelled_status      98.457817\n",
       "Reason of return      99.999446\n",
       "Sold as set          100.000000\n",
       "dtype: float64"
      ]
     },
     "execution_count": 57,
     "metadata": {},
     "output_type": "execute_result"
    }
   ],
   "source": [
    "dataset.isnull().sum()/len(dataset)*100"
   ]
  },
  {
   "cell_type": "code",
   "execution_count": 58,
   "id": "b1b2cb72",
   "metadata": {},
   "outputs": [
    {
     "data": {
      "text/plain": [
       "Index(['CustomerID', 'Item Code', 'InvoieNo', 'Date of purchase', 'Quantity',\n",
       "       'Time', 'price per Unit', 'Price', 'Shipping Location',\n",
       "       'Cancelled_status', 'Reason of return', 'Sold as set'],\n",
       "      dtype='object')"
      ]
     },
     "execution_count": 58,
     "metadata": {},
     "output_type": "execute_result"
    }
   ],
   "source": [
    "dataset.columns"
   ]
  },
  {
   "cell_type": "markdown",
   "id": "06d48680",
   "metadata": {},
   "source": [
    "**************************************************************************************************************************"
   ]
  },
  {
   "cell_type": "markdown",
   "id": "0516f32c",
   "metadata": {},
   "source": [
    "The Approach that we have to use for segmentation is Recency Frequency and Monetary approach for which we need CustomerID for segmentation, Date of Purchase for recency, Invoice number for Frequency and Price for Monetary we can drop the other columns in order to make the segmentation more clear"
   ]
  },
  {
   "cell_type": "markdown",
   "id": "583b6d51",
   "metadata": {},
   "source": [
    "**************************************************************************************************************************"
   ]
  },
  {
   "cell_type": "code",
   "execution_count": 59,
   "id": "3a2bbe9b",
   "metadata": {},
   "outputs": [
    {
     "data": {
      "text/html": [
       "<div>\n",
       "<style scoped>\n",
       "    .dataframe tbody tr th:only-of-type {\n",
       "        vertical-align: middle;\n",
       "    }\n",
       "\n",
       "    .dataframe tbody tr th {\n",
       "        vertical-align: top;\n",
       "    }\n",
       "\n",
       "    .dataframe thead th {\n",
       "        text-align: right;\n",
       "    }\n",
       "</style>\n",
       "<table border=\"1\" class=\"dataframe\">\n",
       "  <thead>\n",
       "    <tr style=\"text-align: right;\">\n",
       "      <th></th>\n",
       "      <th>CustomerID</th>\n",
       "      <th>InvoieNo</th>\n",
       "      <th>Date of purchase</th>\n",
       "      <th>Price</th>\n",
       "    </tr>\n",
       "  </thead>\n",
       "  <tbody>\n",
       "    <tr>\n",
       "      <th>0</th>\n",
       "      <td>4355.0</td>\n",
       "      <td>398177.0</td>\n",
       "      <td>29-10-2017</td>\n",
       "      <td>1926.0</td>\n",
       "    </tr>\n",
       "    <tr>\n",
       "      <th>1</th>\n",
       "      <td>4352.0</td>\n",
       "      <td>394422.0</td>\n",
       "      <td>05-10-2017</td>\n",
       "      <td>1740.0</td>\n",
       "    </tr>\n",
       "    <tr>\n",
       "      <th>2</th>\n",
       "      <td>4352.0</td>\n",
       "      <td>394422.0</td>\n",
       "      <td>12-10-2017</td>\n",
       "      <td>1866.0</td>\n",
       "    </tr>\n",
       "    <tr>\n",
       "      <th>3</th>\n",
       "      <td>4352.0</td>\n",
       "      <td>388633.0</td>\n",
       "      <td>22-08-2017</td>\n",
       "      <td>1869.0</td>\n",
       "    </tr>\n",
       "    <tr>\n",
       "      <th>4</th>\n",
       "      <td>4352.0</td>\n",
       "      <td>394422.0</td>\n",
       "      <td>10-10-2017</td>\n",
       "      <td>1888.0</td>\n",
       "    </tr>\n",
       "  </tbody>\n",
       "</table>\n",
       "</div>"
      ],
      "text/plain": [
       "   CustomerID  InvoieNo Date of purchase   Price\n",
       "0      4355.0  398177.0       29-10-2017  1926.0\n",
       "1      4352.0  394422.0       05-10-2017  1740.0\n",
       "2      4352.0  394422.0       12-10-2017  1866.0\n",
       "3      4352.0  388633.0       22-08-2017  1869.0\n",
       "4      4352.0  394422.0       10-10-2017  1888.0"
      ]
     },
     "execution_count": 59,
     "metadata": {},
     "output_type": "execute_result"
    }
   ],
   "source": [
    "dataset=dataset.drop(['Item Code','Quantity',\n",
    "       'Time', 'price per Unit','Shipping Location',\n",
    "       'Cancelled_status', 'Reason of return', 'Sold as set'],axis=1)\n",
    "dataset.head()"
   ]
  },
  {
   "cell_type": "markdown",
   "id": "cb37b59e",
   "metadata": {},
   "source": [
    "***************************************************************************************************************************"
   ]
  },
  {
   "cell_type": "markdown",
   "id": "51d7616a",
   "metadata": {},
   "source": [
    "The majority of missing data is the customer ID which is an important feature for segmentation, As we cannot impute the customer ID with some random values we can drop the rows which has missing values"
   ]
  },
  {
   "cell_type": "markdown",
   "id": "92511dcb",
   "metadata": {},
   "source": [
    "**************************************************************************************************************************"
   ]
  },
  {
   "cell_type": "code",
   "execution_count": 60,
   "id": "2c1d22ed",
   "metadata": {},
   "outputs": [],
   "source": [
    "dataset=dataset.dropna()"
   ]
  },
  {
   "cell_type": "code",
   "execution_count": 61,
   "id": "770cb65b",
   "metadata": {},
   "outputs": [
    {
     "data": {
      "text/plain": [
       "CustomerID          0\n",
       "InvoieNo            0\n",
       "Date of purchase    0\n",
       "Price               0\n",
       "dtype: int64"
      ]
     },
     "execution_count": 61,
     "metadata": {},
     "output_type": "execute_result"
    }
   ],
   "source": [
    "dataset.isnull().sum()"
   ]
  },
  {
   "cell_type": "markdown",
   "id": "babe3324",
   "metadata": {},
   "source": [
    "***************************************************************************************************************************"
   ]
  },
  {
   "cell_type": "markdown",
   "id": "213442cf",
   "metadata": {},
   "source": [
    "While creating our model of grouping the customers we cannot have duplicate values as the model will get trained on any one of them and removing the duplicates will improve the efficiency of the segmentation"
   ]
  },
  {
   "cell_type": "markdown",
   "id": "a400948e",
   "metadata": {},
   "source": [
    "***********************************************************************************************************************"
   ]
  },
  {
   "cell_type": "code",
   "execution_count": 62,
   "id": "162fea90",
   "metadata": {},
   "outputs": [
    {
     "data": {
      "text/plain": [
       "1330"
      ]
     },
     "execution_count": 62,
     "metadata": {},
     "output_type": "execute_result"
    }
   ],
   "source": [
    "dataset.duplicated().sum()"
   ]
  },
  {
   "cell_type": "code",
   "execution_count": 63,
   "id": "55d171c3",
   "metadata": {},
   "outputs": [],
   "source": [
    "dataset=dataset.drop_duplicates(ignore_index=True)"
   ]
  },
  {
   "cell_type": "code",
   "execution_count": 64,
   "id": "9fc14b52",
   "metadata": {},
   "outputs": [
    {
     "data": {
      "text/plain": [
       "0"
      ]
     },
     "execution_count": 64,
     "metadata": {},
     "output_type": "execute_result"
    }
   ],
   "source": [
    "dataset.duplicated().sum()"
   ]
  },
  {
   "cell_type": "markdown",
   "id": "48058021",
   "metadata": {},
   "source": [
    "##### Correcting the name of the columns"
   ]
  },
  {
   "cell_type": "code",
   "execution_count": 65,
   "id": "9a8d9dfb",
   "metadata": {},
   "outputs": [
    {
     "data": {
      "text/html": [
       "<div>\n",
       "<style scoped>\n",
       "    .dataframe tbody tr th:only-of-type {\n",
       "        vertical-align: middle;\n",
       "    }\n",
       "\n",
       "    .dataframe tbody tr th {\n",
       "        vertical-align: top;\n",
       "    }\n",
       "\n",
       "    .dataframe thead th {\n",
       "        text-align: right;\n",
       "    }\n",
       "</style>\n",
       "<table border=\"1\" class=\"dataframe\">\n",
       "  <thead>\n",
       "    <tr style=\"text-align: right;\">\n",
       "      <th></th>\n",
       "      <th>CustomerID</th>\n",
       "      <th>InvoiceNo</th>\n",
       "      <th>Date</th>\n",
       "      <th>Price</th>\n",
       "    </tr>\n",
       "  </thead>\n",
       "  <tbody>\n",
       "    <tr>\n",
       "      <th>0</th>\n",
       "      <td>4355.0</td>\n",
       "      <td>398177.0</td>\n",
       "      <td>29-10-2017</td>\n",
       "      <td>1926.0</td>\n",
       "    </tr>\n",
       "    <tr>\n",
       "      <th>1</th>\n",
       "      <td>4352.0</td>\n",
       "      <td>394422.0</td>\n",
       "      <td>05-10-2017</td>\n",
       "      <td>1740.0</td>\n",
       "    </tr>\n",
       "    <tr>\n",
       "      <th>2</th>\n",
       "      <td>4352.0</td>\n",
       "      <td>394422.0</td>\n",
       "      <td>12-10-2017</td>\n",
       "      <td>1866.0</td>\n",
       "    </tr>\n",
       "    <tr>\n",
       "      <th>3</th>\n",
       "      <td>4352.0</td>\n",
       "      <td>388633.0</td>\n",
       "      <td>22-08-2017</td>\n",
       "      <td>1869.0</td>\n",
       "    </tr>\n",
       "    <tr>\n",
       "      <th>4</th>\n",
       "      <td>4352.0</td>\n",
       "      <td>394422.0</td>\n",
       "      <td>10-10-2017</td>\n",
       "      <td>1888.0</td>\n",
       "    </tr>\n",
       "  </tbody>\n",
       "</table>\n",
       "</div>"
      ],
      "text/plain": [
       "   CustomerID  InvoiceNo        Date   Price\n",
       "0      4355.0   398177.0  29-10-2017  1926.0\n",
       "1      4352.0   394422.0  05-10-2017  1740.0\n",
       "2      4352.0   394422.0  12-10-2017  1866.0\n",
       "3      4352.0   388633.0  22-08-2017  1869.0\n",
       "4      4352.0   394422.0  10-10-2017  1888.0"
      ]
     },
     "execution_count": 65,
     "metadata": {},
     "output_type": "execute_result"
    }
   ],
   "source": [
    "dataset=dataset.rename(columns={'InvoieNo':'InvoiceNo','Date of purchase':'Date'})\n",
    "dataset.head()"
   ]
  },
  {
   "cell_type": "markdown",
   "id": "26f03b28",
   "metadata": {},
   "source": [
    "************************************************************************************************************************"
   ]
  },
  {
   "cell_type": "markdown",
   "id": "5d228a9d",
   "metadata": {},
   "source": [
    "The date feature in the dataset is of type string and the model will treat is as it is, in order to feed the model correct data we need to convert the column to datetime type for proper training"
   ]
  },
  {
   "cell_type": "markdown",
   "id": "c2975961",
   "metadata": {},
   "source": [
    "***************************************************************************************************************************"
   ]
  },
  {
   "cell_type": "code",
   "execution_count": 66,
   "id": "989ab89c",
   "metadata": {},
   "outputs": [],
   "source": [
    "import datetime as dt"
   ]
  },
  {
   "cell_type": "code",
   "execution_count": 67,
   "id": "c2495eba",
   "metadata": {},
   "outputs": [],
   "source": [
    "dataset['Date']=pd.to_datetime(dataset['Date'])"
   ]
  },
  {
   "cell_type": "code",
   "execution_count": 69,
   "id": "a4f0c4cf",
   "metadata": {},
   "outputs": [
    {
     "data": {
      "text/plain": [
       "count                  402859\n",
       "unique                    381\n",
       "top       2017-11-24 00:00:00\n",
       "freq                     2507\n",
       "first     2016-02-12 00:00:00\n",
       "last      2017-12-19 00:00:00\n",
       "Name: Date, dtype: object"
      ]
     },
     "execution_count": 69,
     "metadata": {},
     "output_type": "execute_result"
    }
   ],
   "source": [
    " dataset['Date'].describe()"
   ]
  },
  {
   "cell_type": "markdown",
   "id": "de62399f",
   "metadata": {},
   "source": [
    "*************************************************************************************************************************"
   ]
  },
  {
   "cell_type": "markdown",
   "id": "c027b8af",
   "metadata": {},
   "source": [
    "In order to caluculate the Recency we need to check the last date and how long ago the customer has ordered will help us to understand who are the prime customers to be targetted for advertising or offers, As we see the last date here is 19th December 2017 so we will calculate the recency on the basis of next day that is 20th December 2017, Similarly the count of invoice per customer will give us their frequency and the sum of their ordered price will give us the monetary benefits"
   ]
  },
  {
   "cell_type": "markdown",
   "id": "4ccbdadf",
   "metadata": {},
   "source": [
    "***************************************************************************************************************************"
   ]
  },
  {
   "cell_type": "code",
   "execution_count": 72,
   "id": "f39b4427",
   "metadata": {},
   "outputs": [
    {
     "data": {
      "text/plain": [
       "datetime.datetime(2017, 12, 20, 0, 0)"
      ]
     },
     "execution_count": 72,
     "metadata": {},
     "output_type": "execute_result"
    }
   ],
   "source": [
    "latest_date = dt.datetime(2017,12,20)\n",
    "latest_date"
   ]
  },
  {
   "cell_type": "code",
   "execution_count": 73,
   "id": "d9487e55",
   "metadata": {},
   "outputs": [],
   "source": [
    "RFMScore=dataset.groupby('CustomerID').agg({'Date':lambda x:(latest_date-x.max()).days,\n",
    "                                           'InvoiceNo':lambda x:x.count(),\n",
    "                                           'Price':lambda x:x.sum()})\n",
    "\n",
    "RFMScore.rename(columns={'Date':'Recency','InvoiceNo':'Frequency','Price':'Monetary'},inplace=True)"
   ]
  },
  {
   "cell_type": "code",
   "execution_count": 28,
   "id": "b55f3ca8",
   "metadata": {},
   "outputs": [
    {
     "data": {
      "text/html": [
       "<div>\n",
       "<style scoped>\n",
       "    .dataframe tbody tr th:only-of-type {\n",
       "        vertical-align: middle;\n",
       "    }\n",
       "\n",
       "    .dataframe tbody tr th {\n",
       "        vertical-align: top;\n",
       "    }\n",
       "\n",
       "    .dataframe thead th {\n",
       "        text-align: right;\n",
       "    }\n",
       "</style>\n",
       "<table border=\"1\" class=\"dataframe\">\n",
       "  <thead>\n",
       "    <tr style=\"text-align: right;\">\n",
       "      <th></th>\n",
       "      <th>Recency</th>\n",
       "      <th>Frequency</th>\n",
       "      <th>Monetary</th>\n",
       "    </tr>\n",
       "    <tr>\n",
       "      <th>CustomerID</th>\n",
       "      <th></th>\n",
       "      <th></th>\n",
       "      <th></th>\n",
       "    </tr>\n",
       "  </thead>\n",
       "  <tbody>\n",
       "    <tr>\n",
       "      <th>2.0</th>\n",
       "      <td>4</td>\n",
       "      <td>181</td>\n",
       "      <td>550416.0</td>\n",
       "    </tr>\n",
       "    <tr>\n",
       "      <th>3.0</th>\n",
       "      <td>77</td>\n",
       "      <td>27</td>\n",
       "      <td>257404.0</td>\n",
       "    </tr>\n",
       "    <tr>\n",
       "      <th>4.0</th>\n",
       "      <td>20</td>\n",
       "      <td>72</td>\n",
       "      <td>176613.0</td>\n",
       "    </tr>\n",
       "    <tr>\n",
       "      <th>5.0</th>\n",
       "      <td>18</td>\n",
       "      <td>16</td>\n",
       "      <td>41976.0</td>\n",
       "    </tr>\n",
       "    <tr>\n",
       "      <th>6.0</th>\n",
       "      <td>9</td>\n",
       "      <td>84</td>\n",
       "      <td>151822.0</td>\n",
       "    </tr>\n",
       "    <tr>\n",
       "      <th>...</th>\n",
       "      <td>...</td>\n",
       "      <td>...</td>\n",
       "      <td>...</td>\n",
       "    </tr>\n",
       "    <tr>\n",
       "      <th>4368.0</th>\n",
       "      <td>17</td>\n",
       "      <td>10</td>\n",
       "      <td>20480.0</td>\n",
       "    </tr>\n",
       "    <tr>\n",
       "      <th>4369.0</th>\n",
       "      <td>181</td>\n",
       "      <td>7</td>\n",
       "      <td>10774.0</td>\n",
       "    </tr>\n",
       "    <tr>\n",
       "      <th>4370.0</th>\n",
       "      <td>12</td>\n",
       "      <td>13</td>\n",
       "      <td>24962.0</td>\n",
       "    </tr>\n",
       "    <tr>\n",
       "      <th>4371.0</th>\n",
       "      <td>4</td>\n",
       "      <td>751</td>\n",
       "      <td>279720.0</td>\n",
       "    </tr>\n",
       "    <tr>\n",
       "      <th>4372.0</th>\n",
       "      <td>51</td>\n",
       "      <td>68</td>\n",
       "      <td>256952.0</td>\n",
       "    </tr>\n",
       "  </tbody>\n",
       "</table>\n",
       "<p>4349 rows × 3 columns</p>\n",
       "</div>"
      ],
      "text/plain": [
       "            Recency  Frequency  Monetary\n",
       "CustomerID                              \n",
       "2.0               4        181  550416.0\n",
       "3.0              77         27  257404.0\n",
       "4.0              20         72  176613.0\n",
       "5.0              18         16   41976.0\n",
       "6.0               9         84  151822.0\n",
       "...             ...        ...       ...\n",
       "4368.0           17         10   20480.0\n",
       "4369.0          181          7   10774.0\n",
       "4370.0           12         13   24962.0\n",
       "4371.0            4        751  279720.0\n",
       "4372.0           51         68  256952.0\n",
       "\n",
       "[4349 rows x 3 columns]"
      ]
     },
     "execution_count": 28,
     "metadata": {},
     "output_type": "execute_result"
    }
   ],
   "source": [
    "RFMScore"
   ]
  },
  {
   "cell_type": "markdown",
   "id": "2bd60dcd",
   "metadata": {},
   "source": [
    "# SEGMENTATION\n",
    "\n",
    "The approach we can use for segmentation can be quantile approcah where we can identify the customers falling in the 25,50 and 75 percentile and make decisions accordingly"
   ]
  },
  {
   "cell_type": "code",
   "execution_count": 102,
   "id": "c8a1be41",
   "metadata": {},
   "outputs": [
    {
     "data": {
      "image/png": "[encoded data removed]",
      "text/plain": [
       "<Figure size 1080x432 with 3 Axes>"
      ]
     },
     "metadata": {
      "needs_background": "light"
     },
     "output_type": "display_data"
    }
   ],
   "source": [
    "plt.figure(figsize=(15,6))\n",
    "plt.subplot(1,3,1)\n",
    "sns.boxplot(y='Recency',data=RFMScore,showfliers=False)\n",
    "\n",
    "plt.subplot(1,3,2)\n",
    "sns.boxplot(y='Frequency',data=RFMScore,showfliers=False)\n",
    "\n",
    "plt.subplot(1,3,3)\n",
    "sns.boxplot(y='Monetary',data=RFMScore,showfliers=False)\n",
    "\n",
    "plt.show()"
   ]
  },
  {
   "cell_type": "markdown",
   "id": "03630b0a",
   "metadata": {},
   "source": [
    "***************************************************************************************************************************"
   ]
  },
  {
   "cell_type": "markdown",
   "id": "29a1eea6",
   "metadata": {},
   "source": [
    "## The segmentation approach that we need to apply is based on quantiles , Recency is better in the 25th percentile as the most recent customer is better, Frequency and monetary will be better as moving towards the 75th percentile and above, So writing a function to divide the best customers basis Recency, Frequency and Monetary Where 1 indicates the Best and 4 indicates Blacklisted"
   ]
  },
  {
   "cell_type": "markdown",
   "id": "408acac8",
   "metadata": {},
   "source": [
    "**************************************************************************************************************************"
   ]
  },
  {
   "cell_type": "code",
   "execution_count": 103,
   "id": "d0831228",
   "metadata": {},
   "outputs": [
    {
     "data": {
      "text/plain": [
       "{'Recency': {0.25: 10.0, 0.5: 19.0, 0.75: 73.0},\n",
       " 'Frequency': {0.25: 17.0, 0.5: 42.0, 0.75: 101.0},\n",
       " 'Monetary': {0.25: 38140.0, 0.5: 83635.0, 0.75: 205444.0}}"
      ]
     },
     "execution_count": 103,
     "metadata": {},
     "output_type": "execute_result"
    }
   ],
   "source": [
    "quantile=RFMScore.quantile(q=[0.25,0.50,0.75])\n",
    "quantile=quantile.to_dict()\n",
    "quantile"
   ]
  },
  {
   "cell_type": "code",
   "execution_count": 104,
   "id": "c9669338",
   "metadata": {},
   "outputs": [],
   "source": [
    "def recency_score(x,p,d):\n",
    "    if x<=d[p][0.25]:\n",
    "        return 1\n",
    "    elif x<=d[p][0.50]:\n",
    "        return 2\n",
    "    elif x<=d[p][0.75]:\n",
    "        return 3\n",
    "    else:\n",
    "        return 4"
   ]
  },
  {
   "cell_type": "code",
   "execution_count": 106,
   "id": "d2b8df7c",
   "metadata": {},
   "outputs": [],
   "source": [
    "RFMScore['R']=RFMScore['Recency'].apply(recency_score,args=('Recency',quantile))"
   ]
  },
  {
   "cell_type": "code",
   "execution_count": 108,
   "id": "f2473500",
   "metadata": {},
   "outputs": [],
   "source": [
    "def FnM_score(x,p,d):\n",
    "    if x<=d[p][0.25]:\n",
    "        return 4\n",
    "    elif x<=d[p][0.50]:\n",
    "        return 3\n",
    "    elif x<=d[p][0.75]:\n",
    "        return 2\n",
    "    else:\n",
    "        return 1"
   ]
  },
  {
   "cell_type": "code",
   "execution_count": 111,
   "id": "b7149b44",
   "metadata": {},
   "outputs": [],
   "source": [
    "RFMScore['F']=RFMScore['Frequency'].apply(FnM_score,args=('Frequency',quantile))\n",
    "RFMScore['M']=RFMScore['Monetary'].apply(FnM_score,args=('Monetary',quantile))"
   ]
  },
  {
   "cell_type": "code",
   "execution_count": 112,
   "id": "0d5170a5",
   "metadata": {},
   "outputs": [
    {
     "data": {
      "text/html": [
       "<div>\n",
       "<style scoped>\n",
       "    .dataframe tbody tr th:only-of-type {\n",
       "        vertical-align: middle;\n",
       "    }\n",
       "\n",
       "    .dataframe tbody tr th {\n",
       "        vertical-align: top;\n",
       "    }\n",
       "\n",
       "    .dataframe thead th {\n",
       "        text-align: right;\n",
       "    }\n",
       "</style>\n",
       "<table border=\"1\" class=\"dataframe\">\n",
       "  <thead>\n",
       "    <tr style=\"text-align: right;\">\n",
       "      <th></th>\n",
       "      <th>CustomerID</th>\n",
       "      <th>Recency</th>\n",
       "      <th>Frequency</th>\n",
       "      <th>Monetary</th>\n",
       "      <th>R</th>\n",
       "      <th>F</th>\n",
       "      <th>M</th>\n",
       "    </tr>\n",
       "  </thead>\n",
       "  <tbody>\n",
       "    <tr>\n",
       "      <th>0</th>\n",
       "      <td>2.0</td>\n",
       "      <td>4</td>\n",
       "      <td>181</td>\n",
       "      <td>550416.0</td>\n",
       "      <td>1</td>\n",
       "      <td>1</td>\n",
       "      <td>1</td>\n",
       "    </tr>\n",
       "    <tr>\n",
       "      <th>1</th>\n",
       "      <td>3.0</td>\n",
       "      <td>77</td>\n",
       "      <td>27</td>\n",
       "      <td>257404.0</td>\n",
       "      <td>4</td>\n",
       "      <td>3</td>\n",
       "      <td>1</td>\n",
       "    </tr>\n",
       "    <tr>\n",
       "      <th>2</th>\n",
       "      <td>4.0</td>\n",
       "      <td>20</td>\n",
       "      <td>72</td>\n",
       "      <td>176613.0</td>\n",
       "      <td>3</td>\n",
       "      <td>2</td>\n",
       "      <td>2</td>\n",
       "    </tr>\n",
       "    <tr>\n",
       "      <th>3</th>\n",
       "      <td>5.0</td>\n",
       "      <td>18</td>\n",
       "      <td>16</td>\n",
       "      <td>41976.0</td>\n",
       "      <td>2</td>\n",
       "      <td>4</td>\n",
       "      <td>3</td>\n",
       "    </tr>\n",
       "    <tr>\n",
       "      <th>4</th>\n",
       "      <td>6.0</td>\n",
       "      <td>9</td>\n",
       "      <td>84</td>\n",
       "      <td>151822.0</td>\n",
       "      <td>1</td>\n",
       "      <td>2</td>\n",
       "      <td>2</td>\n",
       "    </tr>\n",
       "    <tr>\n",
       "      <th>...</th>\n",
       "      <td>...</td>\n",
       "      <td>...</td>\n",
       "      <td>...</td>\n",
       "      <td>...</td>\n",
       "      <td>...</td>\n",
       "      <td>...</td>\n",
       "      <td>...</td>\n",
       "    </tr>\n",
       "    <tr>\n",
       "      <th>4344</th>\n",
       "      <td>4368.0</td>\n",
       "      <td>17</td>\n",
       "      <td>10</td>\n",
       "      <td>20480.0</td>\n",
       "      <td>2</td>\n",
       "      <td>4</td>\n",
       "      <td>4</td>\n",
       "    </tr>\n",
       "    <tr>\n",
       "      <th>4345</th>\n",
       "      <td>4369.0</td>\n",
       "      <td>181</td>\n",
       "      <td>7</td>\n",
       "      <td>10774.0</td>\n",
       "      <td>4</td>\n",
       "      <td>4</td>\n",
       "      <td>4</td>\n",
       "    </tr>\n",
       "    <tr>\n",
       "      <th>4346</th>\n",
       "      <td>4370.0</td>\n",
       "      <td>12</td>\n",
       "      <td>13</td>\n",
       "      <td>24962.0</td>\n",
       "      <td>2</td>\n",
       "      <td>4</td>\n",
       "      <td>4</td>\n",
       "    </tr>\n",
       "    <tr>\n",
       "      <th>4347</th>\n",
       "      <td>4371.0</td>\n",
       "      <td>4</td>\n",
       "      <td>751</td>\n",
       "      <td>279720.0</td>\n",
       "      <td>1</td>\n",
       "      <td>1</td>\n",
       "      <td>1</td>\n",
       "    </tr>\n",
       "    <tr>\n",
       "      <th>4348</th>\n",
       "      <td>4372.0</td>\n",
       "      <td>51</td>\n",
       "      <td>68</td>\n",
       "      <td>256952.0</td>\n",
       "      <td>3</td>\n",
       "      <td>2</td>\n",
       "      <td>1</td>\n",
       "    </tr>\n",
       "  </tbody>\n",
       "</table>\n",
       "<p>4349 rows × 7 columns</p>\n",
       "</div>"
      ],
      "text/plain": [
       "      CustomerID  Recency  Frequency  Monetary  R  F  M\n",
       "0            2.0        4        181  550416.0  1  1  1\n",
       "1            3.0       77         27  257404.0  4  3  1\n",
       "2            4.0       20         72  176613.0  3  2  2\n",
       "3            5.0       18         16   41976.0  2  4  3\n",
       "4            6.0        9         84  151822.0  1  2  2\n",
       "...          ...      ...        ...       ... .. .. ..\n",
       "4344      4368.0       17         10   20480.0  2  4  4\n",
       "4345      4369.0      181          7   10774.0  4  4  4\n",
       "4346      4370.0       12         13   24962.0  2  4  4\n",
       "4347      4371.0        4        751  279720.0  1  1  1\n",
       "4348      4372.0       51         68  256952.0  3  2  1\n",
       "\n",
       "[4349 rows x 7 columns]"
      ]
     },
     "execution_count": 112,
     "metadata": {},
     "output_type": "execute_result"
    }
   ],
   "source": [
    "RFMScore.reset_index()"
   ]
  },
  {
   "cell_type": "markdown",
   "id": "5eb936da",
   "metadata": {},
   "source": [
    "###### As the RFM scores are different summing them up which indicates the values 3 to 12 where 3 being the best and 12 the worst'"
   ]
  },
  {
   "cell_type": "code",
   "execution_count": 113,
   "id": "364068bd",
   "metadata": {},
   "outputs": [
    {
     "data": {
      "text/html": [
       "<div>\n",
       "<style scoped>\n",
       "    .dataframe tbody tr th:only-of-type {\n",
       "        vertical-align: middle;\n",
       "    }\n",
       "\n",
       "    .dataframe tbody tr th {\n",
       "        vertical-align: top;\n",
       "    }\n",
       "\n",
       "    .dataframe thead th {\n",
       "        text-align: right;\n",
       "    }\n",
       "</style>\n",
       "<table border=\"1\" class=\"dataframe\">\n",
       "  <thead>\n",
       "    <tr style=\"text-align: right;\">\n",
       "      <th></th>\n",
       "      <th>Recency</th>\n",
       "      <th>Frequency</th>\n",
       "      <th>Monetary</th>\n",
       "      <th>R</th>\n",
       "      <th>F</th>\n",
       "      <th>M</th>\n",
       "      <th>RFM_Score</th>\n",
       "    </tr>\n",
       "    <tr>\n",
       "      <th>CustomerID</th>\n",
       "      <th></th>\n",
       "      <th></th>\n",
       "      <th></th>\n",
       "      <th></th>\n",
       "      <th></th>\n",
       "      <th></th>\n",
       "      <th></th>\n",
       "    </tr>\n",
       "  </thead>\n",
       "  <tbody>\n",
       "    <tr>\n",
       "      <th>2.0</th>\n",
       "      <td>4</td>\n",
       "      <td>181</td>\n",
       "      <td>550416.0</td>\n",
       "      <td>1</td>\n",
       "      <td>1</td>\n",
       "      <td>1</td>\n",
       "      <td>3</td>\n",
       "    </tr>\n",
       "    <tr>\n",
       "      <th>3.0</th>\n",
       "      <td>77</td>\n",
       "      <td>27</td>\n",
       "      <td>257404.0</td>\n",
       "      <td>4</td>\n",
       "      <td>3</td>\n",
       "      <td>1</td>\n",
       "      <td>8</td>\n",
       "    </tr>\n",
       "    <tr>\n",
       "      <th>4.0</th>\n",
       "      <td>20</td>\n",
       "      <td>72</td>\n",
       "      <td>176613.0</td>\n",
       "      <td>3</td>\n",
       "      <td>2</td>\n",
       "      <td>2</td>\n",
       "      <td>7</td>\n",
       "    </tr>\n",
       "    <tr>\n",
       "      <th>5.0</th>\n",
       "      <td>18</td>\n",
       "      <td>16</td>\n",
       "      <td>41976.0</td>\n",
       "      <td>2</td>\n",
       "      <td>4</td>\n",
       "      <td>3</td>\n",
       "      <td>9</td>\n",
       "    </tr>\n",
       "    <tr>\n",
       "      <th>6.0</th>\n",
       "      <td>9</td>\n",
       "      <td>84</td>\n",
       "      <td>151822.0</td>\n",
       "      <td>1</td>\n",
       "      <td>2</td>\n",
       "      <td>2</td>\n",
       "      <td>5</td>\n",
       "    </tr>\n",
       "    <tr>\n",
       "      <th>...</th>\n",
       "      <td>...</td>\n",
       "      <td>...</td>\n",
       "      <td>...</td>\n",
       "      <td>...</td>\n",
       "      <td>...</td>\n",
       "      <td>...</td>\n",
       "      <td>...</td>\n",
       "    </tr>\n",
       "    <tr>\n",
       "      <th>4368.0</th>\n",
       "      <td>17</td>\n",
       "      <td>10</td>\n",
       "      <td>20480.0</td>\n",
       "      <td>2</td>\n",
       "      <td>4</td>\n",
       "      <td>4</td>\n",
       "      <td>10</td>\n",
       "    </tr>\n",
       "    <tr>\n",
       "      <th>4369.0</th>\n",
       "      <td>181</td>\n",
       "      <td>7</td>\n",
       "      <td>10774.0</td>\n",
       "      <td>4</td>\n",
       "      <td>4</td>\n",
       "      <td>4</td>\n",
       "      <td>12</td>\n",
       "    </tr>\n",
       "    <tr>\n",
       "      <th>4370.0</th>\n",
       "      <td>12</td>\n",
       "      <td>13</td>\n",
       "      <td>24962.0</td>\n",
       "      <td>2</td>\n",
       "      <td>4</td>\n",
       "      <td>4</td>\n",
       "      <td>10</td>\n",
       "    </tr>\n",
       "    <tr>\n",
       "      <th>4371.0</th>\n",
       "      <td>4</td>\n",
       "      <td>751</td>\n",
       "      <td>279720.0</td>\n",
       "      <td>1</td>\n",
       "      <td>1</td>\n",
       "      <td>1</td>\n",
       "      <td>3</td>\n",
       "    </tr>\n",
       "    <tr>\n",
       "      <th>4372.0</th>\n",
       "      <td>51</td>\n",
       "      <td>68</td>\n",
       "      <td>256952.0</td>\n",
       "      <td>3</td>\n",
       "      <td>2</td>\n",
       "      <td>1</td>\n",
       "      <td>6</td>\n",
       "    </tr>\n",
       "  </tbody>\n",
       "</table>\n",
       "<p>4349 rows × 7 columns</p>\n",
       "</div>"
      ],
      "text/plain": [
       "            Recency  Frequency  Monetary  R  F  M  RFM_Score\n",
       "CustomerID                                                  \n",
       "2.0               4        181  550416.0  1  1  1          3\n",
       "3.0              77         27  257404.0  4  3  1          8\n",
       "4.0              20         72  176613.0  3  2  2          7\n",
       "5.0              18         16   41976.0  2  4  3          9\n",
       "6.0               9         84  151822.0  1  2  2          5\n",
       "...             ...        ...       ... .. .. ..        ...\n",
       "4368.0           17         10   20480.0  2  4  4         10\n",
       "4369.0          181          7   10774.0  4  4  4         12\n",
       "4370.0           12         13   24962.0  2  4  4         10\n",
       "4371.0            4        751  279720.0  1  1  1          3\n",
       "4372.0           51         68  256952.0  3  2  1          6\n",
       "\n",
       "[4349 rows x 7 columns]"
      ]
     },
     "execution_count": 113,
     "metadata": {},
     "output_type": "execute_result"
    }
   ],
   "source": [
    "RFMScore['RFM_Score']=RFMScore[['R','F','M']].sum(axis=1)\n",
    "RFMScore"
   ]
  },
  {
   "cell_type": "markdown",
   "id": "e7ef7feb",
   "metadata": {},
   "source": [
    "### The values 3-12 were difficult to understand so doing further grouping by diving them into Platinum,Gold,Silver and Bronze"
   ]
  },
  {
   "cell_type": "code",
   "execution_count": 114,
   "id": "a2ef98fd",
   "metadata": {},
   "outputs": [
    {
     "data": {
      "text/html": [
       "<div>\n",
       "<style scoped>\n",
       "    .dataframe tbody tr th:only-of-type {\n",
       "        vertical-align: middle;\n",
       "    }\n",
       "\n",
       "    .dataframe tbody tr th {\n",
       "        vertical-align: top;\n",
       "    }\n",
       "\n",
       "    .dataframe thead th {\n",
       "        text-align: right;\n",
       "    }\n",
       "</style>\n",
       "<table border=\"1\" class=\"dataframe\">\n",
       "  <thead>\n",
       "    <tr style=\"text-align: right;\">\n",
       "      <th></th>\n",
       "      <th>CustomerID</th>\n",
       "      <th>Recency</th>\n",
       "      <th>Frequency</th>\n",
       "      <th>Monetary</th>\n",
       "      <th>R</th>\n",
       "      <th>F</th>\n",
       "      <th>M</th>\n",
       "      <th>RFM_Score</th>\n",
       "      <th>Loyal_customer</th>\n",
       "    </tr>\n",
       "  </thead>\n",
       "  <tbody>\n",
       "    <tr>\n",
       "      <th>0</th>\n",
       "      <td>2.0</td>\n",
       "      <td>4</td>\n",
       "      <td>181</td>\n",
       "      <td>550416.0</td>\n",
       "      <td>1</td>\n",
       "      <td>1</td>\n",
       "      <td>1</td>\n",
       "      <td>3</td>\n",
       "      <td>Platinum</td>\n",
       "    </tr>\n",
       "    <tr>\n",
       "      <th>1</th>\n",
       "      <td>3.0</td>\n",
       "      <td>77</td>\n",
       "      <td>27</td>\n",
       "      <td>257404.0</td>\n",
       "      <td>4</td>\n",
       "      <td>3</td>\n",
       "      <td>1</td>\n",
       "      <td>8</td>\n",
       "      <td>Gold</td>\n",
       "    </tr>\n",
       "    <tr>\n",
       "      <th>2</th>\n",
       "      <td>4.0</td>\n",
       "      <td>20</td>\n",
       "      <td>72</td>\n",
       "      <td>176613.0</td>\n",
       "      <td>3</td>\n",
       "      <td>2</td>\n",
       "      <td>2</td>\n",
       "      <td>7</td>\n",
       "      <td>Gold</td>\n",
       "    </tr>\n",
       "    <tr>\n",
       "      <th>3</th>\n",
       "      <td>5.0</td>\n",
       "      <td>18</td>\n",
       "      <td>16</td>\n",
       "      <td>41976.0</td>\n",
       "      <td>2</td>\n",
       "      <td>4</td>\n",
       "      <td>3</td>\n",
       "      <td>9</td>\n",
       "      <td>Silver</td>\n",
       "    </tr>\n",
       "    <tr>\n",
       "      <th>4</th>\n",
       "      <td>6.0</td>\n",
       "      <td>9</td>\n",
       "      <td>84</td>\n",
       "      <td>151822.0</td>\n",
       "      <td>1</td>\n",
       "      <td>2</td>\n",
       "      <td>2</td>\n",
       "      <td>5</td>\n",
       "      <td>Platinum</td>\n",
       "    </tr>\n",
       "    <tr>\n",
       "      <th>...</th>\n",
       "      <td>...</td>\n",
       "      <td>...</td>\n",
       "      <td>...</td>\n",
       "      <td>...</td>\n",
       "      <td>...</td>\n",
       "      <td>...</td>\n",
       "      <td>...</td>\n",
       "      <td>...</td>\n",
       "      <td>...</td>\n",
       "    </tr>\n",
       "    <tr>\n",
       "      <th>4344</th>\n",
       "      <td>4368.0</td>\n",
       "      <td>17</td>\n",
       "      <td>10</td>\n",
       "      <td>20480.0</td>\n",
       "      <td>2</td>\n",
       "      <td>4</td>\n",
       "      <td>4</td>\n",
       "      <td>10</td>\n",
       "      <td>Silver</td>\n",
       "    </tr>\n",
       "    <tr>\n",
       "      <th>4345</th>\n",
       "      <td>4369.0</td>\n",
       "      <td>181</td>\n",
       "      <td>7</td>\n",
       "      <td>10774.0</td>\n",
       "      <td>4</td>\n",
       "      <td>4</td>\n",
       "      <td>4</td>\n",
       "      <td>12</td>\n",
       "      <td>Bronze</td>\n",
       "    </tr>\n",
       "    <tr>\n",
       "      <th>4346</th>\n",
       "      <td>4370.0</td>\n",
       "      <td>12</td>\n",
       "      <td>13</td>\n",
       "      <td>24962.0</td>\n",
       "      <td>2</td>\n",
       "      <td>4</td>\n",
       "      <td>4</td>\n",
       "      <td>10</td>\n",
       "      <td>Silver</td>\n",
       "    </tr>\n",
       "    <tr>\n",
       "      <th>4347</th>\n",
       "      <td>4371.0</td>\n",
       "      <td>4</td>\n",
       "      <td>751</td>\n",
       "      <td>279720.0</td>\n",
       "      <td>1</td>\n",
       "      <td>1</td>\n",
       "      <td>1</td>\n",
       "      <td>3</td>\n",
       "      <td>Platinum</td>\n",
       "    </tr>\n",
       "    <tr>\n",
       "      <th>4348</th>\n",
       "      <td>4372.0</td>\n",
       "      <td>51</td>\n",
       "      <td>68</td>\n",
       "      <td>256952.0</td>\n",
       "      <td>3</td>\n",
       "      <td>2</td>\n",
       "      <td>1</td>\n",
       "      <td>6</td>\n",
       "      <td>Gold</td>\n",
       "    </tr>\n",
       "  </tbody>\n",
       "</table>\n",
       "<p>4349 rows × 9 columns</p>\n",
       "</div>"
      ],
      "text/plain": [
       "      CustomerID  Recency  Frequency  Monetary  R  F  M  RFM_Score  \\\n",
       "0            2.0        4        181  550416.0  1  1  1          3   \n",
       "1            3.0       77         27  257404.0  4  3  1          8   \n",
       "2            4.0       20         72  176613.0  3  2  2          7   \n",
       "3            5.0       18         16   41976.0  2  4  3          9   \n",
       "4            6.0        9         84  151822.0  1  2  2          5   \n",
       "...          ...      ...        ...       ... .. .. ..        ...   \n",
       "4344      4368.0       17         10   20480.0  2  4  4         10   \n",
       "4345      4369.0      181          7   10774.0  4  4  4         12   \n",
       "4346      4370.0       12         13   24962.0  2  4  4         10   \n",
       "4347      4371.0        4        751  279720.0  1  1  1          3   \n",
       "4348      4372.0       51         68  256952.0  3  2  1          6   \n",
       "\n",
       "     Loyal_customer  \n",
       "0          Platinum  \n",
       "1              Gold  \n",
       "2              Gold  \n",
       "3            Silver  \n",
       "4          Platinum  \n",
       "...             ...  \n",
       "4344         Silver  \n",
       "4345         Bronze  \n",
       "4346         Silver  \n",
       "4347       Platinum  \n",
       "4348           Gold  \n",
       "\n",
       "[4349 rows x 9 columns]"
      ]
     },
     "execution_count": 114,
     "metadata": {},
     "output_type": "execute_result"
    }
   ],
   "source": [
    "Loyal_customer=['Platinum','Gold','Silver','Bronze']\n",
    "score_cuts=pd.qcut(RFMScore.RFM_Score,q=4,labels=Loyal_customer)\n",
    "RFMScore['Loyal_customer']=score_cuts.values\n",
    "RFMScore.reset_index()"
   ]
  },
  {
   "cell_type": "markdown",
   "id": "76024007",
   "metadata": {},
   "source": [
    "# Visualisation"
   ]
  },
  {
   "cell_type": "code",
   "execution_count": 115,
   "id": "27d8964b",
   "metadata": {},
   "outputs": [],
   "source": [
    "RFMScore=RFMScore.reset_index()"
   ]
  },
  {
   "cell_type": "code",
   "execution_count": 116,
   "id": "c1c653b4",
   "metadata": {},
   "outputs": [],
   "source": [
    "new_datapoint=RFMScore.groupby('Loyal_customer')[['Recency','Frequency','Monetary','CustomerID']].agg({\n",
    "    'Recency':'sum','Frequency':'sum','Monetary':'sum','CustomerID':'nunique'}).reset_index()"
   ]
  },
  {
   "cell_type": "code",
   "execution_count": 117,
   "id": "17d84863",
   "metadata": {},
   "outputs": [
    {
     "data": {
      "text/html": [
       "<div>\n",
       "<style scoped>\n",
       "    .dataframe tbody tr th:only-of-type {\n",
       "        vertical-align: middle;\n",
       "    }\n",
       "\n",
       "    .dataframe tbody tr th {\n",
       "        vertical-align: top;\n",
       "    }\n",
       "\n",
       "    .dataframe thead th {\n",
       "        text-align: right;\n",
       "    }\n",
       "</style>\n",
       "<table border=\"1\" class=\"dataframe\">\n",
       "  <thead>\n",
       "    <tr style=\"text-align: right;\">\n",
       "      <th></th>\n",
       "      <th>Loyal_customer</th>\n",
       "      <th>Recency</th>\n",
       "      <th>Frequency</th>\n",
       "      <th>Monetary</th>\n",
       "      <th>No_of_customers</th>\n",
       "    </tr>\n",
       "  </thead>\n",
       "  <tbody>\n",
       "    <tr>\n",
       "      <th>0</th>\n",
       "      <td>Platinum</td>\n",
       "      <td>13340</td>\n",
       "      <td>297150</td>\n",
       "      <td>765731356.0</td>\n",
       "      <td>1308</td>\n",
       "    </tr>\n",
       "    <tr>\n",
       "      <th>1</th>\n",
       "      <td>Gold</td>\n",
       "      <td>42079</td>\n",
       "      <td>73994</td>\n",
       "      <td>160271639.0</td>\n",
       "      <td>1289</td>\n",
       "    </tr>\n",
       "    <tr>\n",
       "      <th>2</th>\n",
       "      <td>Silver</td>\n",
       "      <td>78927</td>\n",
       "      <td>23588</td>\n",
       "      <td>52766014.1</td>\n",
       "      <td>940</td>\n",
       "    </tr>\n",
       "    <tr>\n",
       "      <th>3</th>\n",
       "      <td>Bronze</td>\n",
       "      <td>132879</td>\n",
       "      <td>8127</td>\n",
       "      <td>19300105.0</td>\n",
       "      <td>812</td>\n",
       "    </tr>\n",
       "  </tbody>\n",
       "</table>\n",
       "</div>"
      ],
      "text/plain": [
       "  Loyal_customer  Recency  Frequency     Monetary  No_of_customers\n",
       "0       Platinum    13340     297150  765731356.0             1308\n",
       "1           Gold    42079      73994  160271639.0             1289\n",
       "2         Silver    78927      23588   52766014.1              940\n",
       "3         Bronze   132879       8127   19300105.0              812"
      ]
     },
     "execution_count": 117,
     "metadata": {},
     "output_type": "execute_result"
    }
   ],
   "source": [
    "# Renaming the column for better understanding\n",
    "new_datapoint=new_datapoint.rename(columns={'CustomerID':'No_of_customers'})\n",
    "new_datapoint"
   ]
  },
  {
   "cell_type": "markdown",
   "id": "c6bcab3c",
   "metadata": {},
   "source": [
    "### As the customers are divided checking what percentage of the belong to the respective categories and dropping the columns which are not required now for visualisation"
   ]
  },
  {
   "cell_type": "code",
   "execution_count": 120,
   "id": "b6e05105",
   "metadata": {},
   "outputs": [],
   "source": [
    "new_datapoint['Percentage']=round(new_datapoint['No_of_customers']/new_datapoint.No_of_customers.sum()*100,2)"
   ]
  },
  {
   "cell_type": "code",
   "execution_count": 121,
   "id": "55691adf",
   "metadata": {},
   "outputs": [
    {
     "data": {
      "text/html": [
       "<div>\n",
       "<style scoped>\n",
       "    .dataframe tbody tr th:only-of-type {\n",
       "        vertical-align: middle;\n",
       "    }\n",
       "\n",
       "    .dataframe tbody tr th {\n",
       "        vertical-align: top;\n",
       "    }\n",
       "\n",
       "    .dataframe thead th {\n",
       "        text-align: right;\n",
       "    }\n",
       "</style>\n",
       "<table border=\"1\" class=\"dataframe\">\n",
       "  <thead>\n",
       "    <tr style=\"text-align: right;\">\n",
       "      <th></th>\n",
       "      <th>Loyal_customer</th>\n",
       "      <th>Recency</th>\n",
       "      <th>Frequency</th>\n",
       "      <th>Monetary</th>\n",
       "      <th>No_of_customers</th>\n",
       "      <th>Percentage</th>\n",
       "    </tr>\n",
       "  </thead>\n",
       "  <tbody>\n",
       "    <tr>\n",
       "      <th>0</th>\n",
       "      <td>Platinum</td>\n",
       "      <td>13340</td>\n",
       "      <td>297150</td>\n",
       "      <td>765731356.0</td>\n",
       "      <td>1308</td>\n",
       "      <td>30.08</td>\n",
       "    </tr>\n",
       "    <tr>\n",
       "      <th>1</th>\n",
       "      <td>Gold</td>\n",
       "      <td>42079</td>\n",
       "      <td>73994</td>\n",
       "      <td>160271639.0</td>\n",
       "      <td>1289</td>\n",
       "      <td>29.64</td>\n",
       "    </tr>\n",
       "    <tr>\n",
       "      <th>2</th>\n",
       "      <td>Silver</td>\n",
       "      <td>78927</td>\n",
       "      <td>23588</td>\n",
       "      <td>52766014.1</td>\n",
       "      <td>940</td>\n",
       "      <td>21.61</td>\n",
       "    </tr>\n",
       "    <tr>\n",
       "      <th>3</th>\n",
       "      <td>Bronze</td>\n",
       "      <td>132879</td>\n",
       "      <td>8127</td>\n",
       "      <td>19300105.0</td>\n",
       "      <td>812</td>\n",
       "      <td>18.67</td>\n",
       "    </tr>\n",
       "  </tbody>\n",
       "</table>\n",
       "</div>"
      ],
      "text/plain": [
       "  Loyal_customer  Recency  Frequency     Monetary  No_of_customers  Percentage\n",
       "0       Platinum    13340     297150  765731356.0             1308       30.08\n",
       "1           Gold    42079      73994  160271639.0             1289       29.64\n",
       "2         Silver    78927      23588   52766014.1              940       21.61\n",
       "3         Bronze   132879       8127   19300105.0              812       18.67"
      ]
     },
     "execution_count": 121,
     "metadata": {},
     "output_type": "execute_result"
    }
   ],
   "source": [
    "new_datapoint"
   ]
  },
  {
   "cell_type": "code",
   "execution_count": 122,
   "id": "189a6151",
   "metadata": {},
   "outputs": [],
   "source": [
    "new_datapoint=new_datapoint.drop(['Recency','Frequency','Monetary'],axis=1)"
   ]
  },
  {
   "cell_type": "code",
   "execution_count": 123,
   "id": "be00993d",
   "metadata": {},
   "outputs": [
    {
     "data": {
      "text/html": [
       "<div>\n",
       "<style scoped>\n",
       "    .dataframe tbody tr th:only-of-type {\n",
       "        vertical-align: middle;\n",
       "    }\n",
       "\n",
       "    .dataframe tbody tr th {\n",
       "        vertical-align: top;\n",
       "    }\n",
       "\n",
       "    .dataframe thead th {\n",
       "        text-align: right;\n",
       "    }\n",
       "</style>\n",
       "<table border=\"1\" class=\"dataframe\">\n",
       "  <thead>\n",
       "    <tr style=\"text-align: right;\">\n",
       "      <th></th>\n",
       "      <th>Loyal_customer</th>\n",
       "      <th>No_of_customers</th>\n",
       "      <th>Percentage</th>\n",
       "    </tr>\n",
       "  </thead>\n",
       "  <tbody>\n",
       "    <tr>\n",
       "      <th>0</th>\n",
       "      <td>Platinum</td>\n",
       "      <td>1308</td>\n",
       "      <td>30.08</td>\n",
       "    </tr>\n",
       "    <tr>\n",
       "      <th>1</th>\n",
       "      <td>Gold</td>\n",
       "      <td>1289</td>\n",
       "      <td>29.64</td>\n",
       "    </tr>\n",
       "    <tr>\n",
       "      <th>2</th>\n",
       "      <td>Silver</td>\n",
       "      <td>940</td>\n",
       "      <td>21.61</td>\n",
       "    </tr>\n",
       "    <tr>\n",
       "      <th>3</th>\n",
       "      <td>Bronze</td>\n",
       "      <td>812</td>\n",
       "      <td>18.67</td>\n",
       "    </tr>\n",
       "  </tbody>\n",
       "</table>\n",
       "</div>"
      ],
      "text/plain": [
       "  Loyal_customer  No_of_customers  Percentage\n",
       "0       Platinum             1308       30.08\n",
       "1           Gold             1289       29.64\n",
       "2         Silver              940       21.61\n",
       "3         Bronze              812       18.67"
      ]
     },
     "execution_count": 123,
     "metadata": {},
     "output_type": "execute_result"
    }
   ],
   "source": [
    "new_datapoint"
   ]
  },
  {
   "cell_type": "code",
   "execution_count": 129,
   "id": "867bbae4",
   "metadata": {},
   "outputs": [
    {
     "data": {
      "image/png": "[encoded data removed]",
      "text/plain": [
       "<Figure size 1080x432 with 1 Axes>"
      ]
     },
     "metadata": {},
     "output_type": "display_data"
    }
   ],
   "source": [
    "plt.figure(figsize=(15,6))\n",
    "plt.pie(new_datapoint['Percentage'],labels=Loyal_customer,autopct='%1.2f%%')\n",
    "plt.show()"
   ]
  },
  {
   "cell_type": "markdown",
   "id": "2223fa04",
   "metadata": {},
   "source": [
    "************************************************************************************************************************"
   ]
  },
  {
   "cell_type": "markdown",
   "id": "91f664f4",
   "metadata": {},
   "source": [
    "### As per our Observation we can see that most of our customers are in the Platinum Category, However a big number lies in Silver and Bronze Category so we can use this data to decide for which group of customers we should focus on advertising and for which group of customers we should give offers and try retension."
   ]
  },
  {
   "cell_type": "markdown",
   "id": "3e26a669",
   "metadata": {},
   "source": [
    "**************************************************************************************************************************"
   ]
  },
  {
   "cell_type": "markdown",
   "id": "32f79a34",
   "metadata": {},
   "source": [
    "# Clustering\n",
    "\n",
    "Building Unsupervise Machine Learning method - KMeans for which we require Recency, Frequency and Monetary variables"
   ]
  },
  {
   "cell_type": "markdown",
   "id": "0e6ba81e",
   "metadata": {},
   "source": [
    "*************************************************************************************************************************"
   ]
  },
  {
   "cell_type": "code",
   "execution_count": 130,
   "id": "b6c624ee",
   "metadata": {},
   "outputs": [
    {
     "data": {
      "text/html": [
       "<div>\n",
       "<style scoped>\n",
       "    .dataframe tbody tr th:only-of-type {\n",
       "        vertical-align: middle;\n",
       "    }\n",
       "\n",
       "    .dataframe tbody tr th {\n",
       "        vertical-align: top;\n",
       "    }\n",
       "\n",
       "    .dataframe thead th {\n",
       "        text-align: right;\n",
       "    }\n",
       "</style>\n",
       "<table border=\"1\" class=\"dataframe\">\n",
       "  <thead>\n",
       "    <tr style=\"text-align: right;\">\n",
       "      <th></th>\n",
       "      <th>Recency</th>\n",
       "      <th>Frequency</th>\n",
       "      <th>Monetary</th>\n",
       "    </tr>\n",
       "  </thead>\n",
       "  <tbody>\n",
       "    <tr>\n",
       "      <th>0</th>\n",
       "      <td>4</td>\n",
       "      <td>181</td>\n",
       "      <td>550416.0</td>\n",
       "    </tr>\n",
       "    <tr>\n",
       "      <th>1</th>\n",
       "      <td>77</td>\n",
       "      <td>27</td>\n",
       "      <td>257404.0</td>\n",
       "    </tr>\n",
       "    <tr>\n",
       "      <th>2</th>\n",
       "      <td>20</td>\n",
       "      <td>72</td>\n",
       "      <td>176613.0</td>\n",
       "    </tr>\n",
       "    <tr>\n",
       "      <th>3</th>\n",
       "      <td>18</td>\n",
       "      <td>16</td>\n",
       "      <td>41976.0</td>\n",
       "    </tr>\n",
       "    <tr>\n",
       "      <th>4</th>\n",
       "      <td>9</td>\n",
       "      <td>84</td>\n",
       "      <td>151822.0</td>\n",
       "    </tr>\n",
       "  </tbody>\n",
       "</table>\n",
       "</div>"
      ],
      "text/plain": [
       "   Recency  Frequency  Monetary\n",
       "0        4        181  550416.0\n",
       "1       77         27  257404.0\n",
       "2       20         72  176613.0\n",
       "3       18         16   41976.0\n",
       "4        9         84  151822.0"
      ]
     },
     "execution_count": 130,
     "metadata": {},
     "output_type": "execute_result"
    }
   ],
   "source": [
    "data=RFMScore.iloc[:,1:4]\n",
    "data.head()"
   ]
  },
  {
   "cell_type": "markdown",
   "id": "56911ab9",
   "metadata": {},
   "source": [
    "##### The algorithm works works on Euclidean distance and the variables are in different units so we need to scale the data which to perform clustering"
   ]
  },
  {
   "cell_type": "code",
   "execution_count": 132,
   "id": "3b7de5d9",
   "metadata": {},
   "outputs": [],
   "source": [
    "from sklearn.preprocessing import StandardScaler\n",
    "sc=StandardScaler()\n",
    "data_sc=sc.fit_transform(data)\n",
    "scaled_data=pd.DataFrame(data_sc,index=data.index,columns=data.columns)"
   ]
  },
  {
   "cell_type": "code",
   "execution_count": 133,
   "id": "65aba5dd",
   "metadata": {},
   "outputs": [
    {
     "data": {
      "text/html": [
       "<div>\n",
       "<style scoped>\n",
       "    .dataframe tbody tr th:only-of-type {\n",
       "        vertical-align: middle;\n",
       "    }\n",
       "\n",
       "    .dataframe tbody tr th {\n",
       "        vertical-align: top;\n",
       "    }\n",
       "\n",
       "    .dataframe thead th {\n",
       "        text-align: right;\n",
       "    }\n",
       "</style>\n",
       "<table border=\"1\" class=\"dataframe\">\n",
       "  <thead>\n",
       "    <tr style=\"text-align: right;\">\n",
       "      <th></th>\n",
       "      <th>Recency</th>\n",
       "      <th>Frequency</th>\n",
       "      <th>Monetary</th>\n",
       "    </tr>\n",
       "  </thead>\n",
       "  <tbody>\n",
       "    <tr>\n",
       "      <th>0</th>\n",
       "      <td>-0.640796</td>\n",
       "      <td>0.383014</td>\n",
       "      <td>0.375097</td>\n",
       "    </tr>\n",
       "    <tr>\n",
       "      <th>1</th>\n",
       "      <td>0.173513</td>\n",
       "      <td>-0.284474</td>\n",
       "      <td>0.032622</td>\n",
       "    </tr>\n",
       "    <tr>\n",
       "      <th>2</th>\n",
       "      <td>-0.462317</td>\n",
       "      <td>-0.089428</td>\n",
       "      <td>-0.061808</td>\n",
       "    </tr>\n",
       "    <tr>\n",
       "      <th>3</th>\n",
       "      <td>-0.484627</td>\n",
       "      <td>-0.332151</td>\n",
       "      <td>-0.219173</td>\n",
       "    </tr>\n",
       "    <tr>\n",
       "      <th>4</th>\n",
       "      <td>-0.585021</td>\n",
       "      <td>-0.037416</td>\n",
       "      <td>-0.090784</td>\n",
       "    </tr>\n",
       "    <tr>\n",
       "      <th>...</th>\n",
       "      <td>...</td>\n",
       "      <td>...</td>\n",
       "      <td>...</td>\n",
       "    </tr>\n",
       "    <tr>\n",
       "      <th>4344</th>\n",
       "      <td>-0.495782</td>\n",
       "      <td>-0.358157</td>\n",
       "      <td>-0.244298</td>\n",
       "    </tr>\n",
       "    <tr>\n",
       "      <th>4345</th>\n",
       "      <td>1.333623</td>\n",
       "      <td>-0.371160</td>\n",
       "      <td>-0.255642</td>\n",
       "    </tr>\n",
       "    <tr>\n",
       "      <th>4346</th>\n",
       "      <td>-0.551556</td>\n",
       "      <td>-0.345154</td>\n",
       "      <td>-0.239059</td>\n",
       "    </tr>\n",
       "    <tr>\n",
       "      <th>4347</th>\n",
       "      <td>-0.640796</td>\n",
       "      <td>2.853587</td>\n",
       "      <td>0.058705</td>\n",
       "    </tr>\n",
       "    <tr>\n",
       "      <th>4348</th>\n",
       "      <td>-0.116515</td>\n",
       "      <td>-0.106766</td>\n",
       "      <td>0.032093</td>\n",
       "    </tr>\n",
       "  </tbody>\n",
       "</table>\n",
       "<p>4349 rows × 3 columns</p>\n",
       "</div>"
      ],
      "text/plain": [
       "       Recency  Frequency  Monetary\n",
       "0    -0.640796   0.383014  0.375097\n",
       "1     0.173513  -0.284474  0.032622\n",
       "2    -0.462317  -0.089428 -0.061808\n",
       "3    -0.484627  -0.332151 -0.219173\n",
       "4    -0.585021  -0.037416 -0.090784\n",
       "...        ...        ...       ...\n",
       "4344 -0.495782  -0.358157 -0.244298\n",
       "4345  1.333623  -0.371160 -0.255642\n",
       "4346 -0.551556  -0.345154 -0.239059\n",
       "4347 -0.640796   2.853587  0.058705\n",
       "4348 -0.116515  -0.106766  0.032093\n",
       "\n",
       "[4349 rows x 3 columns]"
      ]
     },
     "execution_count": 133,
     "metadata": {},
     "output_type": "execute_result"
    }
   ],
   "source": [
    "scaled_data"
   ]
  },
  {
   "cell_type": "markdown",
   "id": "4a36ad8a",
   "metadata": {},
   "source": [
    "### Building Kmeans model"
   ]
  },
  {
   "cell_type": "code",
   "execution_count": 134,
   "id": "caab8176",
   "metadata": {},
   "outputs": [],
   "source": [
    "from sklearn.cluster import KMeans"
   ]
  },
  {
   "cell_type": "markdown",
   "id": "1a64b336",
   "metadata": {},
   "source": [
    "***********************************************************************************************************************"
   ]
  },
  {
   "cell_type": "markdown",
   "id": "b63e2717",
   "metadata": {},
   "source": [
    "We need to find how many clusters will be best suited for a proper segregation for which we are going to use within cluster sum of sqaures(WCSS) and Elbow method"
   ]
  },
  {
   "cell_type": "markdown",
   "id": "f6a26f3d",
   "metadata": {},
   "source": [
    "**********************************************************************************************************************"
   ]
  },
  {
   "cell_type": "code",
   "execution_count": 136,
   "id": "d8807fa7",
   "metadata": {},
   "outputs": [],
   "source": [
    "wcss=[]\n",
    "for i in range(1,15):\n",
    "    KM=KMeans(n_clusters=i,init='k-means++',max_iter=1000,random_state=100)\n",
    "    KM.fit(scaled_data)\n",
    "    wcss.append(KM.inertia_)"
   ]
  },
  {
   "cell_type": "code",
   "execution_count": 137,
   "id": "80aa9195",
   "metadata": {},
   "outputs": [
    {
     "data": {
      "text/plain": [
       "[13047.000000000015,\n",
       " 9014.850261247648,\n",
       " 5556.252595830581,\n",
       " 4360.017640798178,\n",
       " 3346.9322363867104,\n",
       " 2481.078686464335,\n",
       " 1978.9107061340096,\n",
       " 1708.7125288993611,\n",
       " 1496.7639789100108,\n",
       " 1295.023832553824,\n",
       " 1130.8924160115953,\n",
       " 989.8243119951496,\n",
       " 865.9881024011925,\n",
       " 777.8202736917385]"
      ]
     },
     "execution_count": 137,
     "metadata": {},
     "output_type": "execute_result"
    }
   ],
   "source": [
    "wcss"
   ]
  },
  {
   "cell_type": "code",
   "execution_count": 138,
   "id": "4ebabf35",
   "metadata": {},
   "outputs": [
    {
     "data": {
      "text/plain": [
       "<AxesSubplot:>"
      ]
     },
     "execution_count": 138,
     "metadata": {},
     "output_type": "execute_result"
    },
    {
     "data": {
      "image/png": "[encoded data removed]",
      "text/plain": [
       "<Figure size 432x288 with 1 Axes>"
      ]
     },
     "metadata": {
      "needs_background": "light"
     },
     "output_type": "display_data"
    }
   ],
   "source": [
    "k_clusters=list(range(1,15))\n",
    "\n",
    "sns.pointplot(k_clusters,wcss)"
   ]
  },
  {
   "cell_type": "markdown",
   "id": "4bebf990",
   "metadata": {},
   "source": [
    "### As per the elbow method the optimal value for k could be 7 or 8 so lets make 7 clusters"
   ]
  },
  {
   "cell_type": "code",
   "execution_count": 170,
   "id": "e1e03404",
   "metadata": {},
   "outputs": [],
   "source": [
    "KM=KMeans(n_clusters=7,init='k-means++',max_iter=1000,random_state=90)\n",
    "y_kmeans=KM.fit_predict(scaled_data)"
   ]
  },
  {
   "cell_type": "code",
   "execution_count": 171,
   "id": "f2fb4da6",
   "metadata": {},
   "outputs": [
    {
     "data": {
      "text/html": [
       "<div>\n",
       "<style scoped>\n",
       "    .dataframe tbody tr th:only-of-type {\n",
       "        vertical-align: middle;\n",
       "    }\n",
       "\n",
       "    .dataframe tbody tr th {\n",
       "        vertical-align: top;\n",
       "    }\n",
       "\n",
       "    .dataframe thead th {\n",
       "        text-align: right;\n",
       "    }\n",
       "</style>\n",
       "<table border=\"1\" class=\"dataframe\">\n",
       "  <thead>\n",
       "    <tr style=\"text-align: right;\">\n",
       "      <th></th>\n",
       "      <th>Recency</th>\n",
       "      <th>Frequency</th>\n",
       "      <th>Monetary</th>\n",
       "      <th>Cluster</th>\n",
       "    </tr>\n",
       "  </thead>\n",
       "  <tbody>\n",
       "    <tr>\n",
       "      <th>0</th>\n",
       "      <td>-0.640796</td>\n",
       "      <td>0.383014</td>\n",
       "      <td>0.375097</td>\n",
       "      <td>0</td>\n",
       "    </tr>\n",
       "    <tr>\n",
       "      <th>1</th>\n",
       "      <td>0.173513</td>\n",
       "      <td>-0.284474</td>\n",
       "      <td>0.032622</td>\n",
       "      <td>0</td>\n",
       "    </tr>\n",
       "    <tr>\n",
       "      <th>2</th>\n",
       "      <td>-0.462317</td>\n",
       "      <td>-0.089428</td>\n",
       "      <td>-0.061808</td>\n",
       "      <td>0</td>\n",
       "    </tr>\n",
       "    <tr>\n",
       "      <th>3</th>\n",
       "      <td>-0.484627</td>\n",
       "      <td>-0.332151</td>\n",
       "      <td>-0.219173</td>\n",
       "      <td>0</td>\n",
       "    </tr>\n",
       "    <tr>\n",
       "      <th>4</th>\n",
       "      <td>-0.585021</td>\n",
       "      <td>-0.037416</td>\n",
       "      <td>-0.090784</td>\n",
       "      <td>0</td>\n",
       "    </tr>\n",
       "    <tr>\n",
       "      <th>...</th>\n",
       "      <td>...</td>\n",
       "      <td>...</td>\n",
       "      <td>...</td>\n",
       "      <td>...</td>\n",
       "    </tr>\n",
       "    <tr>\n",
       "      <th>4344</th>\n",
       "      <td>-0.495782</td>\n",
       "      <td>-0.358157</td>\n",
       "      <td>-0.244298</td>\n",
       "      <td>0</td>\n",
       "    </tr>\n",
       "    <tr>\n",
       "      <th>4345</th>\n",
       "      <td>1.333623</td>\n",
       "      <td>-0.371160</td>\n",
       "      <td>-0.255642</td>\n",
       "      <td>6</td>\n",
       "    </tr>\n",
       "    <tr>\n",
       "      <th>4346</th>\n",
       "      <td>-0.551556</td>\n",
       "      <td>-0.345154</td>\n",
       "      <td>-0.239059</td>\n",
       "      <td>0</td>\n",
       "    </tr>\n",
       "    <tr>\n",
       "      <th>4347</th>\n",
       "      <td>-0.640796</td>\n",
       "      <td>2.853587</td>\n",
       "      <td>0.058705</td>\n",
       "      <td>4</td>\n",
       "    </tr>\n",
       "    <tr>\n",
       "      <th>4348</th>\n",
       "      <td>-0.116515</td>\n",
       "      <td>-0.106766</td>\n",
       "      <td>0.032093</td>\n",
       "      <td>0</td>\n",
       "    </tr>\n",
       "  </tbody>\n",
       "</table>\n",
       "<p>4349 rows × 4 columns</p>\n",
       "</div>"
      ],
      "text/plain": [
       "       Recency  Frequency  Monetary  Cluster\n",
       "0    -0.640796   0.383014  0.375097        0\n",
       "1     0.173513  -0.284474  0.032622        0\n",
       "2    -0.462317  -0.089428 -0.061808        0\n",
       "3    -0.484627  -0.332151 -0.219173        0\n",
       "4    -0.585021  -0.037416 -0.090784        0\n",
       "...        ...        ...       ...      ...\n",
       "4344 -0.495782  -0.358157 -0.244298        0\n",
       "4345  1.333623  -0.371160 -0.255642        6\n",
       "4346 -0.551556  -0.345154 -0.239059        0\n",
       "4347 -0.640796   2.853587  0.058705        4\n",
       "4348 -0.116515  -0.106766  0.032093        0\n",
       "\n",
       "[4349 rows x 4 columns]"
      ]
     },
     "execution_count": 171,
     "metadata": {},
     "output_type": "execute_result"
    }
   ],
   "source": [
    "scaled_data['Cluster']=KM.labels_\n",
    "scaled_data"
   ]
  },
  {
   "cell_type": "code",
   "execution_count": 172,
   "id": "2cc69aa1",
   "metadata": {},
   "outputs": [
    {
     "name": "stdout",
     "output_type": "stream",
     "text": [
      "Silhouette Score: 0.821615936492014\n"
     ]
    }
   ],
   "source": [
    "from sklearn.metrics import silhouette_score\n",
    "silhouette_avg = silhouette_score(scaled_data, KM.labels_)\n",
    "print(f\"Silhouette Score: {silhouette_avg}\")"
   ]
  },
  {
   "cell_type": "markdown",
   "id": "504a832e",
   "metadata": {},
   "source": [
    "### With 6 clusters we are getting the silhouette score of 0.82 which means our model is approximately 82% accurate"
   ]
  }
 ],
 "metadata": {
  "kernelspec": {
   "display_name": "Python 3 (ipykernel)",
   "language": "python",
   "name": "python3"
  },
  "language_info": {
   "codemirror_mode": {
    "name": "ipython",
    "version": 3
   },
   "file_extension": ".py",
   "mimetype": "text/x-python",
   "name": "python",
   "nbconvert_exporter": "python",
   "pygments_lexer": "ipython3",
   "version": "3.9.12"
  }
 },
 "nbformat": 4,
 "nbformat_minor": 5
}
